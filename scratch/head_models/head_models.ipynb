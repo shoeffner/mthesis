{
 "cells": [
  {
   "cell_type": "code",
   "execution_count": null,
   "metadata": {},
   "outputs": [],
   "source": [
    "%matplotlib notebook\n",
    "import numpy as np\n",
    "import scipy.ndimage as ndi\n",
    "import matplotlib.pyplot as plt\n",
    "from mpl_toolkits.mplot3d import Axes3D, art3d\n",
    "\n",
    "colors = [\n",
    "    (1, 0, 0),\n",
    "    (0, 1, 0),\n",
    "    (0, 0, 1),\n",
    "    (1, 1, 0),\n",
    "    (0, 1, 1),\n",
    "    (1, 0, 1)\n",
    "]\n",
    "\n",
    "labels = ['exl', 'enl', 'exr', 'enr', 'sn']\n",
    "\n",
    "def print_model_code(model_points, precision=2, name=''):\n",
    "    print(name)\n",
    "    format_string = ((\"{:.\" + str(precision) + \"f}, \") * 3)[:-2]\n",
    "    for label in labels:\n",
    "        model = format_string.format(*model_points[label])\n",
    "        print(f'  this->model_points.push_back({\"{\"}{model}{\"}\"});  // {label}')\n",
    "    print()\n",
    "\n",
    "def load_model(filename):\n",
    "    model = {}\n",
    "    with open(filename, 'r') as mf:\n",
    "        def c(maybe_num):\n",
    "            try:\n",
    "                return float(maybe_num)\n",
    "            except ValueError:\n",
    "                return maybe_num\n",
    "\n",
    "        data = [[c(v) for v in l.split(',')] for l in mf.read().splitlines()]\n",
    "        for l in data:\n",
    "            model[l[0]] = np.array(l[1:])\n",
    "    return model\n",
    "\n",
    "def translate_to_first_point(model):\n",
    "    for label in labels[::-1]:\n",
    "        model[label] = model[label] - model[labels[0]]\n",
    "    return model\n",
    "\n",
    "def rotate_model(model, rotation, axis='x'):\n",
    "    for label in labels:\n",
    "        model[label] = rotate(model[label], rotation, axis)\n",
    "    return model\n",
    "    \n",
    "def rotate(point, rotation, axis='x'):\n",
    "    angle = rotation / 180 * np.pi\n",
    "    cos = np.cos(angle)\n",
    "    sin = np.sin(angle)\n",
    "    if axis is 'z':\n",
    "        rot = np.array((\n",
    "            (cos, -sin, 0),\n",
    "            (sin, cos, 0),\n",
    "            (0, 0, 1)\n",
    "        ))\n",
    "    elif axis is 'y':\n",
    "        rot = np.array((\n",
    "            (cos, 0, sin),\n",
    "            (0, 1, 0),\n",
    "            (-sin, 0, cos)\n",
    "        ))\n",
    "    else:\n",
    "        rot = np.array((\n",
    "            (1, 0, 0),\n",
    "            (0, cos, -sin),\n",
    "            (0, sin, cos)\n",
    "        ))\n",
    "    return rot @ point\n",
    "\n",
    "def plot(model, precision, name=''):\n",
    "    unit_coord = 10 ** -(precision//2 - 1)\n",
    "    fig = plt.figure(name)\n",
    "    ax = fig.add_subplot(111, projection='3d')\n",
    "    ax.view_init(195, 40)\n",
    "    ax.scatter(\n",
    "        *art3d.rotate_axes(\n",
    "            *zip(*model.values()), 'y'),\n",
    "        c=colors[:len(model)]\n",
    "    )\n",
    "\n",
    "    ax.plot((0, unit_coord), (0, 0), (0, 0), 'b')\n",
    "    ax.plot((0, 0), (0, unit_coord), (0, 0), 'r')\n",
    "    ax.plot((0, 0), (0, 0), (0, unit_coord), 'g')\n",
    "    plt.show()"
   ]
  },
  {
   "cell_type": "code",
   "execution_count": null,
   "metadata": {},
   "outputs": [],
   "source": [
    "def get_model_0():\n",
    "    \"\"\"\n",
    "    Rough estimates based on \n",
    "    https://en.wikipedia.org/wiki/Human_head#/media/File:AvgHeadSizes.png\n",
    "    \"\"\"\n",
    "    return translate_to_first_point({\n",
    "        'exl': np.array(( 0.0595, -0.0357, -0.0555)),\n",
    "        'enl': np.array(( 0.013,  -0.0357, -0.0605)),\n",
    "        'exr': np.array((-0.0595, -0.0357, -0.0555)),\n",
    "        'enr': np.array((-0.013,  -0.0357, -0.0605)),\n",
    "        'sn':  np.array(( 0,       0.0435, -0.087))\n",
    "    }), 4, 'Custom'"
   ]
  },
  {
   "cell_type": "code",
   "execution_count": null,
   "metadata": {},
   "outputs": [],
   "source": [
    "def get_model_1():\n",
    "    \"\"\"\n",
    "    https://www.yobi3d.com/v/4r5otKtbws/HumanHead.stl\n",
    "    \"\"\"\n",
    "    model = load_model('model.csv')\n",
    "    model = rotate_model(model, 13, 'y')\n",
    "    model = rotate_model(model, 10, 'z')\n",
    "    model = rotate_model(model, 90, 'x')\n",
    "    model = rotate_model(model, -2, 'y')\n",
    "    model = rotate_model(model, -3, 'z')\n",
    "    model = translate_to_first_point(model)\n",
    "    return model, 2, 'Head'"
   ]
  },
  {
   "cell_type": "code",
   "execution_count": null,
   "metadata": {},
   "outputs": [],
   "source": [
    "def get_model_2():\n",
    "    \"\"\"\n",
    "    https://www.myminifactory.com/object/head-lamp-21863\n",
    "    \"\"\"\n",
    "    model = load_model('model2.csv')\n",
    "    model = rotate_model(model, 30, 'x')\n",
    "    model = rotate_model(model, 180, 'z')\n",
    "    model = rotate_model(model, 180, 'y')\n",
    "    model = translate_to_first_point(model)\n",
    "    return model, 2, 'head lamp'"
   ]
  },
  {
   "cell_type": "code",
   "execution_count": null,
   "metadata": {},
   "outputs": [],
   "source": [
    "models = [v for k, v in globals().items() if k.startswith('get_model')]"
   ]
  },
  {
   "cell_type": "code",
   "execution_count": null,
   "metadata": {},
   "outputs": [],
   "source": [
    "for model in models:\n",
    "    print_model_code(*model())"
   ]
  },
  {
   "cell_type": "code",
   "execution_count": null,
   "metadata": {},
   "outputs": [],
   "source": [
    "for model in models:\n",
    "    plot(*model())"
   ]
  }
 ],
 "metadata": {
  "kernelspec": {
   "display_name": "Python 3",
   "language": "python",
   "name": "python3"
  },
  "language_info": {
   "codemirror_mode": {
    "name": "ipython",
    "version": 3
   },
   "file_extension": ".py",
   "mimetype": "text/x-python",
   "name": "python",
   "nbconvert_exporter": "python",
   "pygments_lexer": "ipython3",
   "version": "3.6.3"
  }
 },
 "nbformat": 4,
 "nbformat_minor": 2
}
