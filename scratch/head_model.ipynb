{
 "cells": [
  {
   "cell_type": "code",
   "execution_count": null,
   "metadata": {},
   "outputs": [],
   "source": [
    "import matplotlib.pyplot as plt\n",
    "from mpl_toolkits.mplot3d import Axes3D, art3d"
   ]
  },
  {
   "cell_type": "code",
   "execution_count": null,
   "metadata": {},
   "outputs": [],
   "source": [
    "model_points = {\n",
    "    'nt':   ( 0,       0.038,  -0.107),  # red\n",
    "    'ex_l': ( 0.0595, -0.0357, -0.0555), # green\n",
    "    'en_l': ( 0.013,  -0.0357, -0.0605), # blue\n",
    "    'ex_r': (-0.0595, -0.0357, -0.0555), # yellow\n",
    "    'en_r': (-0.013,  -0.0357, -0.0605), # cyan\n",
    "    'sn':   ( 0,       0.0435, -0.087)   # pink\n",
    "}\n",
    "colors = [\n",
    "    (1, 0, 0),\n",
    "    (0, 1, 0),\n",
    "    (0, 0, 1),\n",
    "    (1, 1, 0),\n",
    "    (0, 1, 1),\n",
    "    (1, 0, 1)\n",
    "]"
   ]
  },
  {
   "cell_type": "code",
   "execution_count": null,
   "metadata": {},
   "outputs": [],
   "source": [
    "%matplotlib notebook\n",
    "fig = plt.figure()\n",
    "ax = fig.add_subplot(111, projection='3d')\n",
    "ax.view_init(195, 40)\n",
    "ax.scatter(\n",
    "    *art3d.rotate_axes(\n",
    "        *zip(*model_points.values()), 'y'),\n",
    "    c=colors\n",
    ")\n",
    "\n",
    "ax.plot((0, .1), (0, 0), (0, 0), 'b')\n",
    "ax.plot((0, 0), (0, 0), (0, .1), 'g')\n",
    "ax.plot((0, 0), (0, .1), (0, 0), 'r')\n",
    "lim = [-0.1, .1]\n",
    "ax.set_xlim(lim)\n",
    "ax.set_ylim(lim)\n",
    "ax.set_zlim(lim)\n",
    "plt.show()"
   ]
  }
 ],
 "metadata": {
  "kernelspec": {
   "display_name": "Python 3",
   "language": "python",
   "name": "python3"
  },
  "language_info": {
   "codemirror_mode": {
    "name": "ipython",
    "version": 3
   },
   "file_extension": ".py",
   "mimetype": "text/x-python",
   "name": "python",
   "nbconvert_exporter": "python",
   "pygments_lexer": "ipython3",
   "version": "3.6.3"
  }
 },
 "nbformat": 4,
 "nbformat_minor": 2
}
